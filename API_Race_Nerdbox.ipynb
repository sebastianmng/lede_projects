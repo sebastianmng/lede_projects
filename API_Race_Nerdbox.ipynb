{
 "cells": [
  {
   "cell_type": "code",
   "execution_count": 1,
   "metadata": {
    "collapsed": true
   },
   "outputs": [],
   "source": [
    "import pandas as pd\n",
    "import numpy as np \n",
    "import matplotlib.pyplot as plt\n",
    "from sklearn.preprocessing import Imputer\n",
    "from sklearn.linear_model import LinearRegression\n",
    "%matplotlib inline\n",
    "df_csv = pd.read_csv('data/apib12tx.csv')"
   ]
  },
  {
   "cell_type": "markdown",
   "metadata": {},
   "source": [
    "### Making all relevant data available"
   ]
  },
  {
   "cell_type": "code",
   "execution_count": 3,
   "metadata": {
    "collapsed": false
   },
   "outputs": [
    {
     "data": {
      "text/plain": [
       "Index([u'CHARTER', u'SNAME', u'DNAME', u'CNAME', u'API12B', u'ST_RANK',\n",
       "       u'PCT_AA', u'PCT_AI', u'PCT_AS', u'PCT_FI', u'PCT_HI', u'PCT_PI',\n",
       "       u'PCT_WH', u'PCT_MR', u'MEALS', u'P_GATE', u'P_MIGED', u'P_EL',\n",
       "       u'P_RFEP', u'P_DI', u'ACS_K3', u'ACS_46', u'ACS_CORE', u'PCT_RESP',\n",
       "       u'NOT_HSG', u'HSG', u'SOME_COL', u'COL_GRAD', u'GRAD_SCH', u'AVG_ED'],\n",
       "      dtype='object')"
      ]
     },
     "execution_count": 3,
     "metadata": {},
     "output_type": "execute_result"
    }
   ],
   "source": [
    "df_csv.columns"
   ]
  },
  {
   "cell_type": "markdown",
   "metadata": {},
   "source": [
    "apib12tx.csv is composed mostly of percentage and average data. It is important to have the columns with counted data available, since counted data shows the actual variability of the data."
   ]
  },
  {
   "cell_type": "code",
   "execution_count": 2,
   "metadata": {
    "collapsed": true
   },
   "outputs": [],
   "source": [
    "import pysal as ps\n",
    "dbf_link = \"data/apiB12db.dbf\"\n",
    "dbf = ps.open(dbf_link)\n",
    "d = {col: dbf.by_col(col) for col in dbf.header}\n",
    "df_whole = pd.DataFrame(d)\n",
    "#pysal read the cells in the dbf as strings\n",
    "df_whole = df_whole.convert_objects(convert_numeric=True)"
   ]
  },
  {
   "cell_type": "markdown",
   "metadata": {},
   "source": [
    "### Looking at race and API"
   ]
  },
  {
   "cell_type": "code",
   "execution_count": 4,
   "metadata": {
    "collapsed": false
   },
   "outputs": [
    {
     "data": {
      "text/html": [
       "<div>\n",
       "<table border=\"1\" class=\"dataframe\">\n",
       "  <thead>\n",
       "    <tr style=\"text-align: right;\">\n",
       "      <th></th>\n",
       "      <th>API12B</th>\n",
       "      <th>PCT_HI</th>\n",
       "      <th>PCT_AS</th>\n",
       "      <th>PCT_AA</th>\n",
       "      <th>PCT_AI</th>\n",
       "      <th>PCT_FI</th>\n",
       "      <th>PCT_PI</th>\n",
       "      <th>PCT_WH</th>\n",
       "    </tr>\n",
       "  </thead>\n",
       "  <tbody>\n",
       "    <tr>\n",
       "      <th>API12B</th>\n",
       "      <td>1.000000</td>\n",
       "      <td>-0.418466</td>\n",
       "      <td>0.362361</td>\n",
       "      <td>-0.223117</td>\n",
       "      <td>-0.126489</td>\n",
       "      <td>0.153552</td>\n",
       "      <td>-0.060199</td>\n",
       "      <td>0.363066</td>\n",
       "    </tr>\n",
       "    <tr>\n",
       "      <th>PCT_HI</th>\n",
       "      <td>-0.418466</td>\n",
       "      <td>1.000000</td>\n",
       "      <td>-0.363255</td>\n",
       "      <td>-0.092423</td>\n",
       "      <td>-0.187081</td>\n",
       "      <td>-0.142512</td>\n",
       "      <td>-0.077148</td>\n",
       "      <td>-0.784308</td>\n",
       "    </tr>\n",
       "    <tr>\n",
       "      <th>PCT_AS</th>\n",
       "      <td>0.362361</td>\n",
       "      <td>-0.363255</td>\n",
       "      <td>1.000000</td>\n",
       "      <td>-0.049370</td>\n",
       "      <td>-0.088917</td>\n",
       "      <td>0.232352</td>\n",
       "      <td>0.071994</td>\n",
       "      <td>-0.077984</td>\n",
       "    </tr>\n",
       "    <tr>\n",
       "      <th>PCT_AA</th>\n",
       "      <td>-0.223117</td>\n",
       "      <td>-0.092423</td>\n",
       "      <td>-0.049370</td>\n",
       "      <td>1.000000</td>\n",
       "      <td>-0.067107</td>\n",
       "      <td>0.057254</td>\n",
       "      <td>0.219737</td>\n",
       "      <td>-0.282255</td>\n",
       "    </tr>\n",
       "    <tr>\n",
       "      <th>PCT_AI</th>\n",
       "      <td>-0.126489</td>\n",
       "      <td>-0.187081</td>\n",
       "      <td>-0.088917</td>\n",
       "      <td>-0.067107</td>\n",
       "      <td>1.000000</td>\n",
       "      <td>-0.080058</td>\n",
       "      <td>-0.029631</td>\n",
       "      <td>0.128484</td>\n",
       "    </tr>\n",
       "    <tr>\n",
       "      <th>PCT_FI</th>\n",
       "      <td>0.153552</td>\n",
       "      <td>-0.142512</td>\n",
       "      <td>0.232352</td>\n",
       "      <td>0.057254</td>\n",
       "      <td>-0.080058</td>\n",
       "      <td>1.000000</td>\n",
       "      <td>0.282081</td>\n",
       "      <td>-0.129342</td>\n",
       "    </tr>\n",
       "    <tr>\n",
       "      <th>PCT_PI</th>\n",
       "      <td>-0.060199</td>\n",
       "      <td>-0.077148</td>\n",
       "      <td>0.071994</td>\n",
       "      <td>0.219737</td>\n",
       "      <td>-0.029631</td>\n",
       "      <td>0.282081</td>\n",
       "      <td>1.000000</td>\n",
       "      <td>-0.116163</td>\n",
       "    </tr>\n",
       "    <tr>\n",
       "      <th>PCT_WH</th>\n",
       "      <td>0.363066</td>\n",
       "      <td>-0.784308</td>\n",
       "      <td>-0.077984</td>\n",
       "      <td>-0.282255</td>\n",
       "      <td>0.128484</td>\n",
       "      <td>-0.129342</td>\n",
       "      <td>-0.116163</td>\n",
       "      <td>1.000000</td>\n",
       "    </tr>\n",
       "  </tbody>\n",
       "</table>\n",
       "</div>"
      ],
      "text/plain": [
       "          API12B    PCT_HI    PCT_AS    PCT_AA    PCT_AI    PCT_FI    PCT_PI  \\\n",
       "API12B  1.000000 -0.418466  0.362361 -0.223117 -0.126489  0.153552 -0.060199   \n",
       "PCT_HI -0.418466  1.000000 -0.363255 -0.092423 -0.187081 -0.142512 -0.077148   \n",
       "PCT_AS  0.362361 -0.363255  1.000000 -0.049370 -0.088917  0.232352  0.071994   \n",
       "PCT_AA -0.223117 -0.092423 -0.049370  1.000000 -0.067107  0.057254  0.219737   \n",
       "PCT_AI -0.126489 -0.187081 -0.088917 -0.067107  1.000000 -0.080058 -0.029631   \n",
       "PCT_FI  0.153552 -0.142512  0.232352  0.057254 -0.080058  1.000000  0.282081   \n",
       "PCT_PI -0.060199 -0.077148  0.071994  0.219737 -0.029631  0.282081  1.000000   \n",
       "PCT_WH  0.363066 -0.784308 -0.077984 -0.282255  0.128484 -0.129342 -0.116163   \n",
       "\n",
       "          PCT_WH  \n",
       "API12B  0.363066  \n",
       "PCT_HI -0.784308  \n",
       "PCT_AS -0.077984  \n",
       "PCT_AA -0.282255  \n",
       "PCT_AI  0.128484  \n",
       "PCT_FI -0.129342  \n",
       "PCT_PI -0.116163  \n",
       "PCT_WH  1.000000  "
      ]
     },
     "execution_count": 4,
     "metadata": {},
     "output_type": "execute_result"
    }
   ],
   "source": [
    "df_race_pct = df_csv[['API12B', 'PCT_HI', 'PCT_AS', 'PCT_AA',\n",
    "                      'PCT_AI', 'PCT_FI', 'PCT_PI', 'PCT_WH']]\n",
    "df_race_pct.corr()"
   ]
  },
  {
   "cell_type": "markdown",
   "metadata": {},
   "source": [
    "The strongest inverse correlation is between API and percentage of hispanic or latino students. The strongest direct correlations are between API and percentage of asian and white populations. Let's look at counts to see if these correlations hold."
   ]
  },
  {
   "cell_type": "code",
   "execution_count": 5,
   "metadata": {
    "collapsed": false
   },
   "outputs": [
    {
     "data": {
      "text/html": [
       "<div>\n",
       "<table border=\"1\" class=\"dataframe\">\n",
       "  <thead>\n",
       "    <tr style=\"text-align: right;\">\n",
       "      <th></th>\n",
       "      <th>API12B</th>\n",
       "      <th>HI_NUM</th>\n",
       "      <th>AS_NUM</th>\n",
       "      <th>AA_NUM</th>\n",
       "      <th>AI_NUM</th>\n",
       "      <th>FI_NUM</th>\n",
       "      <th>PI_NUM</th>\n",
       "      <th>WH_NUM</th>\n",
       "    </tr>\n",
       "  </thead>\n",
       "  <tbody>\n",
       "    <tr>\n",
       "      <th>API12B</th>\n",
       "      <td>1.000000</td>\n",
       "      <td>-0.001706</td>\n",
       "      <td>0.010793</td>\n",
       "      <td>-0.001750</td>\n",
       "      <td>0.000065</td>\n",
       "      <td>0.004796</td>\n",
       "      <td>0.001394</td>\n",
       "      <td>0.008434</td>\n",
       "    </tr>\n",
       "    <tr>\n",
       "      <th>HI_NUM</th>\n",
       "      <td>-0.001706</td>\n",
       "      <td>1.000000</td>\n",
       "      <td>0.991973</td>\n",
       "      <td>0.998248</td>\n",
       "      <td>0.994364</td>\n",
       "      <td>0.996246</td>\n",
       "      <td>0.995046</td>\n",
       "      <td>0.993578</td>\n",
       "    </tr>\n",
       "    <tr>\n",
       "      <th>AS_NUM</th>\n",
       "      <td>0.010793</td>\n",
       "      <td>0.991973</td>\n",
       "      <td>1.000000</td>\n",
       "      <td>0.992514</td>\n",
       "      <td>0.994898</td>\n",
       "      <td>0.995468</td>\n",
       "      <td>0.996228</td>\n",
       "      <td>0.996129</td>\n",
       "    </tr>\n",
       "    <tr>\n",
       "      <th>AA_NUM</th>\n",
       "      <td>-0.001750</td>\n",
       "      <td>0.998248</td>\n",
       "      <td>0.992514</td>\n",
       "      <td>1.000000</td>\n",
       "      <td>0.994077</td>\n",
       "      <td>0.996525</td>\n",
       "      <td>0.996518</td>\n",
       "      <td>0.993413</td>\n",
       "    </tr>\n",
       "    <tr>\n",
       "      <th>AI_NUM</th>\n",
       "      <td>0.000065</td>\n",
       "      <td>0.994364</td>\n",
       "      <td>0.994898</td>\n",
       "      <td>0.994077</td>\n",
       "      <td>1.000000</td>\n",
       "      <td>0.995279</td>\n",
       "      <td>0.996435</td>\n",
       "      <td>0.997867</td>\n",
       "    </tr>\n",
       "    <tr>\n",
       "      <th>FI_NUM</th>\n",
       "      <td>0.004796</td>\n",
       "      <td>0.996246</td>\n",
       "      <td>0.995468</td>\n",
       "      <td>0.996525</td>\n",
       "      <td>0.995279</td>\n",
       "      <td>1.000000</td>\n",
       "      <td>0.997456</td>\n",
       "      <td>0.995827</td>\n",
       "    </tr>\n",
       "    <tr>\n",
       "      <th>PI_NUM</th>\n",
       "      <td>0.001394</td>\n",
       "      <td>0.995046</td>\n",
       "      <td>0.996228</td>\n",
       "      <td>0.996518</td>\n",
       "      <td>0.996435</td>\n",
       "      <td>0.997456</td>\n",
       "      <td>1.000000</td>\n",
       "      <td>0.997033</td>\n",
       "    </tr>\n",
       "    <tr>\n",
       "      <th>WH_NUM</th>\n",
       "      <td>0.008434</td>\n",
       "      <td>0.993578</td>\n",
       "      <td>0.996129</td>\n",
       "      <td>0.993413</td>\n",
       "      <td>0.997867</td>\n",
       "      <td>0.995827</td>\n",
       "      <td>0.997033</td>\n",
       "      <td>1.000000</td>\n",
       "    </tr>\n",
       "  </tbody>\n",
       "</table>\n",
       "</div>"
      ],
      "text/plain": [
       "          API12B    HI_NUM    AS_NUM    AA_NUM    AI_NUM    FI_NUM    PI_NUM  \\\n",
       "API12B  1.000000 -0.001706  0.010793 -0.001750  0.000065  0.004796  0.001394   \n",
       "HI_NUM -0.001706  1.000000  0.991973  0.998248  0.994364  0.996246  0.995046   \n",
       "AS_NUM  0.010793  0.991973  1.000000  0.992514  0.994898  0.995468  0.996228   \n",
       "AA_NUM -0.001750  0.998248  0.992514  1.000000  0.994077  0.996525  0.996518   \n",
       "AI_NUM  0.000065  0.994364  0.994898  0.994077  1.000000  0.995279  0.996435   \n",
       "FI_NUM  0.004796  0.996246  0.995468  0.996525  0.995279  1.000000  0.997456   \n",
       "PI_NUM  0.001394  0.995046  0.996228  0.996518  0.996435  0.997456  1.000000   \n",
       "WH_NUM  0.008434  0.993578  0.996129  0.993413  0.997867  0.995827  0.997033   \n",
       "\n",
       "          WH_NUM  \n",
       "API12B  0.008434  \n",
       "HI_NUM  0.993578  \n",
       "AS_NUM  0.996129  \n",
       "AA_NUM  0.993413  \n",
       "AI_NUM  0.997867  \n",
       "FI_NUM  0.995827  \n",
       "PI_NUM  0.997033  \n",
       "WH_NUM  1.000000  "
      ]
     },
     "execution_count": 5,
     "metadata": {},
     "output_type": "execute_result"
    }
   ],
   "source": [
    "df_race_counts = df_whole[['API12B', 'HI_NUM', 'AS_NUM',\n",
    "                    'AA_NUM', 'AI_NUM', 'FI_NUM', 'PI_NUM', 'WH_NUM']]\n",
    "df_race_counts.corr()"
   ]
  },
  {
   "cell_type": "markdown",
   "metadata": {},
   "source": [
    "When looking at counts all the correlations have less than a hundredth of the strength that they had when looking at percentages. The strongest correlation is between Asian students and API, but this is only about 0.010793.\n",
    "\n",
    "Of course we are looking at notably different information here. This data doesn't tell us anything about proportions; it's not relational information. Percentages can give us some information about the diversity in schools, counts don't provide that information since they are not reported in relation to the total population of a school. We are cautioned to read percentages for what they say about diversity, not about specific populations."
   ]
  },
  {
   "cell_type": "markdown",
   "metadata": {},
   "source": [
    "###(In)significant effects"
   ]
  },
  {
   "cell_type": "code",
   "execution_count": 6,
   "metadata": {
    "collapsed": true
   },
   "outputs": [],
   "source": [
    "import statsmodels.formula.api as smf"
   ]
  },
  {
   "cell_type": "code",
   "execution_count": 9,
   "metadata": {
    "collapsed": false
   },
   "outputs": [
    {
     "data": {
      "text/html": [
       "<table class=\"simpletable\">\n",
       "<caption>OLS Regression Results</caption>\n",
       "<tr>\n",
       "  <th>Dep. Variable:</th>         <td>API12B</td>      <th>  R-squared:         </th> <td>   0.175</td> \n",
       "</tr>\n",
       "<tr>\n",
       "  <th>Model:</th>                   <td>OLS</td>       <th>  Adj. R-squared:    </th> <td>   0.175</td> \n",
       "</tr>\n",
       "<tr>\n",
       "  <th>Method:</th>             <td>Least Squares</td>  <th>  F-statistic:       </th> <td>   2162.</td> \n",
       "</tr>\n",
       "<tr>\n",
       "  <th>Date:</th>             <td>Sat, 01 Aug 2015</td> <th>  Prob (F-statistic):</th>  <td>  0.00</td>  \n",
       "</tr>\n",
       "<tr>\n",
       "  <th>Time:</th>                 <td>17:15:18</td>     <th>  Log-Likelihood:    </th> <td> -60803.</td> \n",
       "</tr>\n",
       "<tr>\n",
       "  <th>No. Observations:</th>      <td> 10187</td>      <th>  AIC:               </th> <td>1.216e+05</td>\n",
       "</tr>\n",
       "<tr>\n",
       "  <th>Df Residuals:</th>          <td> 10185</td>      <th>  BIC:               </th> <td>1.216e+05</td>\n",
       "</tr>\n",
       "<tr>\n",
       "  <th>Df Model:</th>              <td>     1</td>      <th>                     </th>     <td> </td>    \n",
       "</tr>\n",
       "<tr>\n",
       "  <th>Covariance Type:</th>      <td>nonrobust</td>    <th>                     </th>     <td> </td>    \n",
       "</tr>\n",
       "</table>\n",
       "<table class=\"simpletable\">\n",
       "<tr>\n",
       "      <td></td>         <th>coef</th>     <th>std err</th>      <th>t</th>      <th>P>|t|</th> <th>[95.0% Conf. Int.]</th> \n",
       "</tr>\n",
       "<tr>\n",
       "  <th>Intercept</th> <td>  862.0822</td> <td>    1.858</td> <td>  463.873</td> <td> 0.000</td> <td>  858.439   865.725</td>\n",
       "</tr>\n",
       "<tr>\n",
       "  <th>PCT_HI</th>    <td>   -1.4950</td> <td>    0.032</td> <td>  -46.499</td> <td> 0.000</td> <td>   -1.558    -1.432</td>\n",
       "</tr>\n",
       "</table>\n",
       "<table class=\"simpletable\">\n",
       "<tr>\n",
       "  <th>Omnibus:</th>       <td>2856.146</td> <th>  Durbin-Watson:     </th> <td>   0.170</td>\n",
       "</tr>\n",
       "<tr>\n",
       "  <th>Prob(Omnibus):</th>  <td> 0.000</td>  <th>  Jarque-Bera (JB):  </th> <td>7648.776</td>\n",
       "</tr>\n",
       "<tr>\n",
       "  <th>Skew:</th>           <td>-1.507</td>  <th>  Prob(JB):          </th> <td>    0.00</td>\n",
       "</tr>\n",
       "<tr>\n",
       "  <th>Kurtosis:</th>       <td> 5.990</td>  <th>  Cond. No.          </th> <td>    115.</td>\n",
       "</tr>\n",
       "</table>"
      ],
      "text/plain": [
       "<class 'statsmodels.iolib.summary.Summary'>\n",
       "\"\"\"\n",
       "                            OLS Regression Results                            \n",
       "==============================================================================\n",
       "Dep. Variable:                 API12B   R-squared:                       0.175\n",
       "Model:                            OLS   Adj. R-squared:                  0.175\n",
       "Method:                 Least Squares   F-statistic:                     2162.\n",
       "Date:                Sat, 01 Aug 2015   Prob (F-statistic):               0.00\n",
       "Time:                        17:15:18   Log-Likelihood:                -60803.\n",
       "No. Observations:               10187   AIC:                         1.216e+05\n",
       "Df Residuals:                   10185   BIC:                         1.216e+05\n",
       "Df Model:                           1                                         \n",
       "Covariance Type:            nonrobust                                         \n",
       "==============================================================================\n",
       "                 coef    std err          t      P>|t|      [95.0% Conf. Int.]\n",
       "------------------------------------------------------------------------------\n",
       "Intercept    862.0822      1.858    463.873      0.000       858.439   865.725\n",
       "PCT_HI        -1.4950      0.032    -46.499      0.000        -1.558    -1.432\n",
       "==============================================================================\n",
       "Omnibus:                     2856.146   Durbin-Watson:                   0.170\n",
       "Prob(Omnibus):                  0.000   Jarque-Bera (JB):             7648.776\n",
       "Skew:                          -1.507   Prob(JB):                         0.00\n",
       "Kurtosis:                       5.990   Cond. No.                         115.\n",
       "==============================================================================\n",
       "\n",
       "Warnings:\n",
       "[1] Standard Errors assume that the covariance matrix of the errors is correctly specified.\n",
       "\"\"\""
      ]
     },
     "execution_count": 9,
     "metadata": {},
     "output_type": "execute_result"
    }
   ],
   "source": [
    "lmh.summary()"
   ]
  },
  {
   "cell_type": "code",
   "execution_count": 33,
   "metadata": {
    "collapsed": false
   },
   "outputs": [
    {
     "data": {
      "text/plain": [
       "[<matplotlib.lines.Line2D at 0x11797b8d0>]"
      ]
     },
     "execution_count": 33,
     "metadata": {},
     "output_type": "execute_result"
    },
    {
     "data": {
      "image/png": "[encoded data removed]",
      "text/plain": [
       "<matplotlib.figure.Figure at 0x117b5da50>"
      ]
     },
     "metadata": {},
     "output_type": "display_data"
    }
   ],
   "source": [
    "intercept, slope = lmh.params\n",
    "df_csv.plot(kind='scatter',x='PCT_HI',y='API12B')\n",
    "plt.plot((df_csv['PCT_HI']),slope*df_csv['PCT_HI']+intercept,'c')"
   ]
  },
  {
   "cell_type": "code",
   "execution_count": 40,
   "metadata": {
    "collapsed": false
   },
   "outputs": [],
   "source": [
    "lmh = smf.ols(formula='API12B~PCT_HI',data=df_csv).fit()"
   ]
  },
  {
   "cell_type": "code",
   "execution_count": 8,
   "metadata": {
    "collapsed": false
   },
   "outputs": [
    {
     "name": "stdout",
     "output_type": "stream",
     "text": [
      "Intercept    862.082185\n",
      "PCT_HI        -1.495043\n",
      "dtype: float64\n"
     ]
    }
   ],
   "source": [
    "print lmh.params"
   ]
  },
  {
   "cell_type": "markdown",
   "metadata": {},
   "source": [
    "The percentage of hispanic students explains 17% of the variability in API with a extremely small (statitically significant) p-value. However the coefficient is -1.49 meaning, for every percentage point the population of hispanic students increases, the API decreases almost one and a half points. A percentage point could mean 10 students or 1000 students: a point in the API score must be read in relation to the fact that this index goes from 200 to 1000. We conclude that the actual influence of the percentage of hispanic students is of little practical significance. Moreover, this information must be read in relation to waht is says in terms of diversity and possible lurking variables: A more homogeneously hispanic student population may correspond to a segregated neighborhood where educational resources are scarce.\n",
    "\n",
    "In addition it is clear from the plot above that the data is very disperse. Predictions will be very inaccurate. This goes to show that with enough datapoints you can find statistically significant relation between any two variables."
   ]
  },
  {
   "cell_type": "code",
   "execution_count": 21,
   "metadata": {
    "collapsed": false
   },
   "outputs": [
    {
     "data": {
      "text/plain": [
       "104.17151674779215"
      ]
     },
     "execution_count": 21,
     "metadata": {},
     "output_type": "execute_result"
    }
   ],
   "source": [
    "#speaking of dispersion:\n",
    "np.std(df_csv['API12B'])"
   ]
  },
  {
   "cell_type": "code",
   "execution_count": 22,
   "metadata": {
    "collapsed": false
   },
   "outputs": [
    {
     "data": {
      "text/html": [
       "<table class=\"simpletable\">\n",
       "<caption>OLS Regression Results</caption>\n",
       "<tr>\n",
       "  <th>Dep. Variable:</th>         <td>API12B</td>      <th>  R-squared:         </th> <td>   0.131</td> \n",
       "</tr>\n",
       "<tr>\n",
       "  <th>Model:</th>                   <td>OLS</td>       <th>  Adj. R-squared:    </th> <td>   0.131</td> \n",
       "</tr>\n",
       "<tr>\n",
       "  <th>Method:</th>             <td>Least Squares</td>  <th>  F-statistic:       </th> <td>   1539.</td> \n",
       "</tr>\n",
       "<tr>\n",
       "  <th>Date:</th>             <td>Sat, 01 Aug 2015</td> <th>  Prob (F-statistic):</th> <td>1.05e-313</td>\n",
       "</tr>\n",
       "<tr>\n",
       "  <th>Time:</th>                 <td>17:33:56</td>     <th>  Log-Likelihood:    </th> <td> -61067.</td> \n",
       "</tr>\n",
       "<tr>\n",
       "  <th>No. Observations:</th>      <td> 10187</td>      <th>  AIC:               </th> <td>1.221e+05</td>\n",
       "</tr>\n",
       "<tr>\n",
       "  <th>Df Residuals:</th>          <td> 10185</td>      <th>  BIC:               </th> <td>1.222e+05</td>\n",
       "</tr>\n",
       "<tr>\n",
       "  <th>Df Model:</th>              <td>     1</td>      <th>                     </th>     <td> </td>    \n",
       "</tr>\n",
       "<tr>\n",
       "  <th>Covariance Type:</th>      <td>nonrobust</td>    <th>                     </th>     <td> </td>    \n",
       "</tr>\n",
       "</table>\n",
       "<table class=\"simpletable\">\n",
       "<tr>\n",
       "      <td></td>         <th>coef</th>     <th>std err</th>      <th>t</th>      <th>P>|t|</th> <th>[95.0% Conf. Int.]</th> \n",
       "</tr>\n",
       "<tr>\n",
       "  <th>Intercept</th> <td>  765.5493</td> <td>    1.112</td> <td>  688.147</td> <td> 0.000</td> <td>  763.369   767.730</td>\n",
       "</tr>\n",
       "<tr>\n",
       "  <th>PCT_AS</th>    <td>    3.0636</td> <td>    0.078</td> <td>   39.236</td> <td> 0.000</td> <td>    2.911     3.217</td>\n",
       "</tr>\n",
       "</table>\n",
       "<table class=\"simpletable\">\n",
       "<tr>\n",
       "  <th>Omnibus:</th>       <td>1924.243</td> <th>  Durbin-Watson:     </th> <td>   0.218</td>\n",
       "</tr>\n",
       "<tr>\n",
       "  <th>Prob(Omnibus):</th>  <td> 0.000</td>  <th>  Jarque-Bera (JB):  </th> <td>3854.801</td>\n",
       "</tr>\n",
       "<tr>\n",
       "  <th>Skew:</th>           <td>-1.136</td>  <th>  Prob(JB):          </th> <td>    0.00</td>\n",
       "</tr>\n",
       "<tr>\n",
       "  <th>Kurtosis:</th>       <td> 4.980</td>  <th>  Cond. No.          </th> <td>    16.5</td>\n",
       "</tr>\n",
       "</table>"
      ],
      "text/plain": [
       "<class 'statsmodels.iolib.summary.Summary'>\n",
       "\"\"\"\n",
       "                            OLS Regression Results                            \n",
       "==============================================================================\n",
       "Dep. Variable:                 API12B   R-squared:                       0.131\n",
       "Model:                            OLS   Adj. R-squared:                  0.131\n",
       "Method:                 Least Squares   F-statistic:                     1539.\n",
       "Date:                Sat, 01 Aug 2015   Prob (F-statistic):          1.05e-313\n",
       "Time:                        17:33:56   Log-Likelihood:                -61067.\n",
       "No. Observations:               10187   AIC:                         1.221e+05\n",
       "Df Residuals:                   10185   BIC:                         1.222e+05\n",
       "Df Model:                           1                                         \n",
       "Covariance Type:            nonrobust                                         \n",
       "==============================================================================\n",
       "                 coef    std err          t      P>|t|      [95.0% Conf. Int.]\n",
       "------------------------------------------------------------------------------\n",
       "Intercept    765.5493      1.112    688.147      0.000       763.369   767.730\n",
       "PCT_AS         3.0636      0.078     39.236      0.000         2.911     3.217\n",
       "==============================================================================\n",
       "Omnibus:                     1924.243   Durbin-Watson:                   0.218\n",
       "Prob(Omnibus):                  0.000   Jarque-Bera (JB):             3854.801\n",
       "Skew:                          -1.136   Prob(JB):                         0.00\n",
       "Kurtosis:                       4.980   Cond. No.                         16.5\n",
       "==============================================================================\n",
       "\n",
       "Warnings:\n",
       "[1] Standard Errors assume that the covariance matrix of the errors is correctly specified.\n",
       "\"\"\""
      ]
     },
     "execution_count": 22,
     "metadata": {},
     "output_type": "execute_result"
    }
   ],
   "source": [
    "lma = smf.ols(formula='API12B~PCT_AS',data=df_csv).fit()\n",
    "lma.summary()"
   ]
  },
  {
   "cell_type": "code",
   "execution_count": 23,
   "metadata": {
    "collapsed": false
   },
   "outputs": [
    {
     "data": {
      "text/plain": [
       "[<matplotlib.lines.Line2D at 0x117800a90>]"
      ]
     },
     "execution_count": 23,
     "metadata": {},
     "output_type": "execute_result"
    },
    {
     "data": {
      "image/png": "[encoded data removed]",
      "text/plain": [
       "<matplotlib.figure.Figure at 0x116408150>"
      ]
     },
     "metadata": {},
     "output_type": "display_data"
    }
   ],
   "source": [
    "intercept, slope = lma.params\n",
    "df_csv.plot(kind='scatter',x='PCT_AS',y='API12B')\n",
    "plt.plot((df_csv['PCT_AS']),slope*df_csv['PCT_AS']+intercept,'c')"
   ]
  },
  {
   "cell_type": "code",
   "execution_count": 25,
   "metadata": {
    "collapsed": false
   },
   "outputs": [
    {
     "name": "stdout",
     "output_type": "stream",
     "text": [
      "Intercept    765.549323\n",
      "PCT_AS         3.063640\n",
      "dtype: float64\n"
     ]
    }
   ],
   "source": [
    "print lma.params"
   ]
  },
  {
   "cell_type": "markdown",
   "metadata": {},
   "source": [
    "The percentage of asian students explains 13% of the variability in API with a extremely small (statitically significant) p-value. However the coefficient is 3.06 meaning, for every percentage point the population of asian students increases, the API increases about 3 points. We've seen that API scores have a very large variability. However, in this model variability is particularly noticeable in schools where the percentage of asian students is between 0 and 20. Again, we suspect a great influence of lurking socio-economic variables in relation to the diversity of student population, yet the relation may be inverse to that of hispanic student populations. of course **this requires more research**."
   ]
  },
  {
   "cell_type": "markdown",
   "metadata": {},
   "source": [
    "### Checking outliers"
   ]
  },
  {
   "cell_type": "code",
   "execution_count": 27,
   "metadata": {
    "collapsed": false
   },
   "outputs": [
    {
     "data": {
      "text/html": [
       "<div>\n",
       "<table border=\"1\" class=\"dataframe\">\n",
       "  <thead>\n",
       "    <tr style=\"text-align: right;\">\n",
       "      <th></th>\n",
       "      <th>CHARTER</th>\n",
       "      <th>SNAME</th>\n",
       "      <th>DNAME</th>\n",
       "      <th>CNAME</th>\n",
       "      <th>API12B</th>\n",
       "      <th>ST_RANK</th>\n",
       "      <th>PCT_AA</th>\n",
       "      <th>PCT_AI</th>\n",
       "      <th>PCT_AS</th>\n",
       "      <th>PCT_FI</th>\n",
       "      <th>...</th>\n",
       "      <th>ACS_K3</th>\n",
       "      <th>ACS_46</th>\n",
       "      <th>ACS_CORE</th>\n",
       "      <th>PCT_RESP</th>\n",
       "      <th>NOT_HSG</th>\n",
       "      <th>HSG</th>\n",
       "      <th>SOME_COL</th>\n",
       "      <th>COL_GRAD</th>\n",
       "      <th>GRAD_SCH</th>\n",
       "      <th>AVG_ED</th>\n",
       "    </tr>\n",
       "  </thead>\n",
       "  <tbody>\n",
       "    <tr>\n",
       "      <th>161</th>\n",
       "      <td>D</td>\n",
       "      <td>KIPP Raices Academy</td>\n",
       "      <td>Los Angeles Unified</td>\n",
       "      <td>Los Angeles</td>\n",
       "      <td>961</td>\n",
       "      <td>10</td>\n",
       "      <td>2</td>\n",
       "      <td>0</td>\n",
       "      <td>0</td>\n",
       "      <td>0</td>\n",
       "      <td>...</td>\n",
       "      <td>NaN</td>\n",
       "      <td>NaN</td>\n",
       "      <td>NaN</td>\n",
       "      <td>93</td>\n",
       "      <td>14</td>\n",
       "      <td>36</td>\n",
       "      <td>35</td>\n",
       "      <td>8</td>\n",
       "      <td>7</td>\n",
       "      <td>2.59</td>\n",
       "    </tr>\n",
       "    <tr>\n",
       "      <th>510</th>\n",
       "      <td>D</td>\n",
       "      <td>Synergy Charter Academy</td>\n",
       "      <td>Los Angeles Unified</td>\n",
       "      <td>Los Angeles</td>\n",
       "      <td>935</td>\n",
       "      <td>10</td>\n",
       "      <td>4</td>\n",
       "      <td>0</td>\n",
       "      <td>0</td>\n",
       "      <td>0</td>\n",
       "      <td>...</td>\n",
       "      <td>NaN</td>\n",
       "      <td>NaN</td>\n",
       "      <td>NaN</td>\n",
       "      <td>77</td>\n",
       "      <td>40</td>\n",
       "      <td>28</td>\n",
       "      <td>24</td>\n",
       "      <td>7</td>\n",
       "      <td>1</td>\n",
       "      <td>2.03</td>\n",
       "    </tr>\n",
       "    <tr>\n",
       "      <th>542</th>\n",
       "      <td>Y</td>\n",
       "      <td>Sixth Street Prep</td>\n",
       "      <td>Victor Elementary</td>\n",
       "      <td>San Bernardino</td>\n",
       "      <td>933</td>\n",
       "      <td>10</td>\n",
       "      <td>8</td>\n",
       "      <td>1</td>\n",
       "      <td>1</td>\n",
       "      <td>0</td>\n",
       "      <td>...</td>\n",
       "      <td>22</td>\n",
       "      <td>34</td>\n",
       "      <td>NaN</td>\n",
       "      <td>92</td>\n",
       "      <td>36</td>\n",
       "      <td>23</td>\n",
       "      <td>20</td>\n",
       "      <td>9</td>\n",
       "      <td>13</td>\n",
       "      <td>2.38</td>\n",
       "    </tr>\n",
       "    <tr>\n",
       "      <th>683</th>\n",
       "      <td>D</td>\n",
       "      <td>KIPP Los Angeles College Preparatory</td>\n",
       "      <td>Los Angeles Unified</td>\n",
       "      <td>Los Angeles</td>\n",
       "      <td>925</td>\n",
       "      <td>10</td>\n",
       "      <td>1</td>\n",
       "      <td>0</td>\n",
       "      <td>2</td>\n",
       "      <td>0</td>\n",
       "      <td>...</td>\n",
       "      <td>NaN</td>\n",
       "      <td>NaN</td>\n",
       "      <td>NaN</td>\n",
       "      <td>99</td>\n",
       "      <td>28</td>\n",
       "      <td>37</td>\n",
       "      <td>27</td>\n",
       "      <td>4</td>\n",
       "      <td>4</td>\n",
       "      <td>2.20</td>\n",
       "    </tr>\n",
       "    <tr>\n",
       "      <th>702</th>\n",
       "      <td>D</td>\n",
       "      <td>Rocketship Mateo Sheedy Elementary</td>\n",
       "      <td>Santa Clara County Office of E</td>\n",
       "      <td>Santa Clara</td>\n",
       "      <td>924</td>\n",
       "      <td>10</td>\n",
       "      <td>1</td>\n",
       "      <td>0</td>\n",
       "      <td>1</td>\n",
       "      <td>0</td>\n",
       "      <td>...</td>\n",
       "      <td>24</td>\n",
       "      <td>25</td>\n",
       "      <td>NaN</td>\n",
       "      <td>91</td>\n",
       "      <td>45</td>\n",
       "      <td>24</td>\n",
       "      <td>14</td>\n",
       "      <td>11</td>\n",
       "      <td>7</td>\n",
       "      <td>2.10</td>\n",
       "    </tr>\n",
       "  </tbody>\n",
       "</table>\n",
       "<p>5 rows × 30 columns</p>\n",
       "</div>"
      ],
      "text/plain": [
       "    CHARTER                                 SNAME  \\\n",
       "161       D                   KIPP Raices Academy   \n",
       "510       D               Synergy Charter Academy   \n",
       "542       Y                     Sixth Street Prep   \n",
       "683       D  KIPP Los Angeles College Preparatory   \n",
       "702       D    Rocketship Mateo Sheedy Elementary   \n",
       "\n",
       "                              DNAME           CNAME  API12B ST_RANK  PCT_AA  \\\n",
       "161             Los Angeles Unified     Los Angeles     961      10       2   \n",
       "510             Los Angeles Unified     Los Angeles     935      10       4   \n",
       "542               Victor Elementary  San Bernardino     933      10       8   \n",
       "683             Los Angeles Unified     Los Angeles     925      10       1   \n",
       "702  Santa Clara County Office of E     Santa Clara     924      10       1   \n",
       "\n",
       "     PCT_AI  PCT_AS  PCT_FI   ...    ACS_K3  ACS_46  ACS_CORE  PCT_RESP  \\\n",
       "161       0       0       0   ...       NaN     NaN       NaN        93   \n",
       "510       0       0       0   ...       NaN     NaN       NaN        77   \n",
       "542       1       1       0   ...        22      34       NaN        92   \n",
       "683       0       2       0   ...       NaN     NaN       NaN        99   \n",
       "702       0       1       0   ...        24      25       NaN        91   \n",
       "\n",
       "     NOT_HSG  HSG  SOME_COL  COL_GRAD  GRAD_SCH  AVG_ED  \n",
       "161       14   36        35         8         7    2.59  \n",
       "510       40   28        24         7         1    2.03  \n",
       "542       36   23        20         9        13    2.38  \n",
       "683       28   37        27         4         4    2.20  \n",
       "702       45   24        14        11         7    2.10  \n",
       "\n",
       "[5 rows x 30 columns]"
      ]
     },
     "execution_count": 27,
     "metadata": {},
     "output_type": "execute_result"
    }
   ],
   "source": [
    "hi_outl = df_csv[(df_csv['PCT_HI'] >= 80) & (df_csv['API12B'] >= 900)]\n",
    "hi_outl.sort('API12B', ascending=False).head(5)"
   ]
  },
  {
   "cell_type": "code",
   "execution_count": 46,
   "metadata": {
    "collapsed": false
   },
   "outputs": [
    {
     "name": "stdout",
     "output_type": "stream",
     "text": [
      "161    961\n",
      "Name: API12B, dtype: int64\n",
      "161    98\n",
      "Name: PCT_HI, dtype: int64\n"
     ]
    }
   ],
   "source": [
    "print hi_outl[hi_outl['SNAME'] == 'KIPP Raices Academy']['API12B']\n",
    "print hi_outl[hi_outl['SNAME'] == 'KIPP Raices Academy']['PCT_HI']"
   ]
  },
  {
   "cell_type": "markdown",
   "metadata": {},
   "source": [
    "Two of the schools in the top five are KIPP schools, and three are charters. In fact, the website for the school heading the list explains, \" KIPP Raíces [Spanish for roots] is the first KIPP elementary school in California and the first charter elementary school in East Los Angeles.\" http://www.kippla.org/raices/ \n",
    "\n",
    "KIPP stands for \"Knowledge is Power Program\". \"More than 87 percent of our students are from low-income families and eligible for the federal free or reduced-price meals program, and 96 percent are African American or Latino\" http://www.kipp.org/about-kipp"
   ]
  },
  {
   "cell_type": "code",
   "execution_count": 47,
   "metadata": {
    "collapsed": false
   },
   "outputs": [
    {
     "data": {
      "text/html": [
       "<div>\n",
       "<table border=\"1\" class=\"dataframe\">\n",
       "  <thead>\n",
       "    <tr style=\"text-align: right;\">\n",
       "      <th></th>\n",
       "      <th>CHARTER</th>\n",
       "      <th>SNAME</th>\n",
       "      <th>DNAME</th>\n",
       "      <th>CNAME</th>\n",
       "      <th>API12B</th>\n",
       "      <th>ST_RANK</th>\n",
       "      <th>PCT_AA</th>\n",
       "      <th>PCT_AI</th>\n",
       "      <th>PCT_AS</th>\n",
       "      <th>PCT_FI</th>\n",
       "      <th>...</th>\n",
       "      <th>ACS_K3</th>\n",
       "      <th>ACS_46</th>\n",
       "      <th>ACS_CORE</th>\n",
       "      <th>PCT_RESP</th>\n",
       "      <th>NOT_HSG</th>\n",
       "      <th>HSG</th>\n",
       "      <th>SOME_COL</th>\n",
       "      <th>COL_GRAD</th>\n",
       "      <th>GRAD_SCH</th>\n",
       "      <th>AVG_ED</th>\n",
       "    </tr>\n",
       "  </thead>\n",
       "  <tbody>\n",
       "    <tr>\n",
       "      <th>10040</th>\n",
       "      <td>NaN</td>\n",
       "      <td>S.F. International High</td>\n",
       "      <td>San Francisco Unified</td>\n",
       "      <td>San Francisco</td>\n",
       "      <td>476</td>\n",
       "      <td>1</td>\n",
       "      <td>1</td>\n",
       "      <td>0</td>\n",
       "      <td>54</td>\n",
       "      <td>3</td>\n",
       "      <td>...</td>\n",
       "      <td>NaN</td>\n",
       "      <td>NaN</td>\n",
       "      <td>18</td>\n",
       "      <td>38</td>\n",
       "      <td>37</td>\n",
       "      <td>38</td>\n",
       "      <td>14</td>\n",
       "      <td>11</td>\n",
       "      <td>1</td>\n",
       "      <td>2.01</td>\n",
       "    </tr>\n",
       "  </tbody>\n",
       "</table>\n",
       "<p>1 rows × 30 columns</p>\n",
       "</div>"
      ],
      "text/plain": [
       "      CHARTER                    SNAME                  DNAME          CNAME  \\\n",
       "10040     NaN  S.F. International High  San Francisco Unified  San Francisco   \n",
       "\n",
       "       API12B ST_RANK  PCT_AA  PCT_AI  PCT_AS  PCT_FI   ...    ACS_K3  ACS_46  \\\n",
       "10040     476       1       1       0      54       3   ...       NaN     NaN   \n",
       "\n",
       "       ACS_CORE  PCT_RESP  NOT_HSG  HSG  SOME_COL  COL_GRAD  GRAD_SCH  AVG_ED  \n",
       "10040        18        38       37   38        14        11         1    2.01  \n",
       "\n",
       "[1 rows x 30 columns]"
      ]
     },
     "execution_count": 47,
     "metadata": {},
     "output_type": "execute_result"
    }
   ],
   "source": [
    "as_outl = df_csv[(df_csv['PCT_AS'] >= 50) & (df_csv['API12B'] <= 500)]\n",
    "as_outl.sort('API12B', ascending=False).head(5)"
   ]
  },
  {
   "cell_type": "markdown",
   "metadata": {},
   "source": [
    "S.F. International High is a school for first generation immigrant students. It has a string focus on integration and support of cultural diversity. It uses its own measures of performance in relation to the very specific group of students it works with. KEY: students are not divided by their control of the English language.\n",
    "\n",
    "\"There are many things that make SF International a unique school. Our school is a close-knit, supportive community for students who may feel displaced after moving from another country and are unfamiliar with American language and culture. Differences among students are cherished and nurtured as they are continually encouraged to celebrate their cultural and linguistic individuality. We also believe that recent immigrants are capable of the highest levels of academic success when given the support they need.\" http://international-sfusd-ca.schoolloop.com/"
   ]
  },
  {
   "cell_type": "markdown",
   "metadata": {},
   "source": [
    "###Pitches"
   ]
  },
  {
   "cell_type": "markdown",
   "metadata": {},
   "source": [
    "We've identified schools that cater to two different minority populations. Their API performances must be interpreted in relation to their specific education models and the challenges that Latino and Asian populations face in the United States.\n",
    "\n",
    "**Pitch 1**: KIPP schools with large latino populations have noticeably high API scores. What is it about the KIPP charter model that allows for such high performance?\n",
    "\n",
    "**Pitch 2**: API scores for S.F. International High are noticeably low. Is API a good measure to evaluate first generation immigrant students. What are the specific challenges of these students and the schools that cater to them?"
   ]
  },
  {
   "cell_type": "code",
   "execution_count": null,
   "metadata": {
    "collapsed": true
   },
   "outputs": [],
   "source": []
  }
 ],
 "metadata": {
  "kernelspec": {
   "display_name": "Python 2",
   "language": "python",
   "name": "python2"
  },
  "language_info": {
   "codemirror_mode": {
    "name": "ipython",
    "version": 2
   },
   "file_extension": ".py",
   "mimetype": "text/x-python",
   "name": "python",
   "nbconvert_exporter": "python",
   "pygments_lexer": "ipython2",
   "version": "2.7.9"
  }
 },
 "nbformat": 4,
 "nbformat_minor": 0
}
